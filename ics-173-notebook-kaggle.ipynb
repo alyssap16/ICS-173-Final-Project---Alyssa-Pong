{
 "cells": [
  {
   "cell_type": "markdown",
   "id": "cf5d6b19",
   "metadata": {
    "papermill": {
     "duration": 0.003722,
     "end_time": "2024-05-10T05:03:07.349686",
     "exception": false,
     "start_time": "2024-05-10T05:03:07.345964",
     "status": "completed"
    },
    "tags": []
   },
   "source": []
  },
  {
   "cell_type": "markdown",
   "id": "ee455252",
   "metadata": {
    "papermill": {
     "duration": 0.0026,
     "end_time": "2024-05-10T05:03:07.355368",
     "exception": false,
     "start_time": "2024-05-10T05:03:07.352768",
     "status": "completed"
    },
    "tags": []
   },
   "source": [
    "Hello, this is my final project. Please enjoy! :)"
   ]
  },
  {
   "cell_type": "code",
   "execution_count": 1,
   "id": "f84c1115",
   "metadata": {
    "execution": {
     "iopub.execute_input": "2024-05-10T05:03:07.363107Z",
     "iopub.status.busy": "2024-05-10T05:03:07.362509Z",
     "iopub.status.idle": "2024-05-10T05:03:10.267202Z",
     "shell.execute_reply": "2024-05-10T05:03:10.265974Z"
    },
    "papermill": {
     "duration": 2.912963,
     "end_time": "2024-05-10T05:03:10.271202",
     "exception": false,
     "start_time": "2024-05-10T05:03:07.358239",
     "status": "completed"
    },
    "tags": []
   },
   "outputs": [
    {
     "name": "stdout",
     "output_type": "stream",
     "text": [
      "Setup Complete\n"
     ]
    }
   ],
   "source": [
    "import pandas as pd\n",
    "pd.plotting.register_matplotlib_converters()\n",
    "import matplotlib.pyplot as plt\n",
    "%matplotlib inline\n",
    "import seaborn as sns\n",
    "import plotly.express as px\n",
    "print(\"Setup Complete\")"
   ]
  },
  {
   "cell_type": "code",
   "execution_count": 2,
   "id": "e811f972",
   "metadata": {
    "execution": {
     "iopub.execute_input": "2024-05-10T05:03:10.280121Z",
     "iopub.status.busy": "2024-05-10T05:03:10.279271Z",
     "iopub.status.idle": "2024-05-10T05:03:10.300797Z",
     "shell.execute_reply": "2024-05-10T05:03:10.299921Z"
    },
    "papermill": {
     "duration": 0.028718,
     "end_time": "2024-05-10T05:03:10.303194",
     "exception": false,
     "start_time": "2024-05-10T05:03:10.274476",
     "status": "completed"
    },
    "tags": []
   },
   "outputs": [],
   "source": [
    "#Path of the file to read\n",
    "cereal_filepath = \"/kaggle/input/80-cereals/cereal.csv\"\n",
    "\n",
    "#Read the file path into a variable\n",
    "cereal_data = pd.read_csv(cereal_filepath)"
   ]
  },
  {
   "cell_type": "code",
   "execution_count": 3,
   "id": "30aff624",
   "metadata": {
    "execution": {
     "iopub.execute_input": "2024-05-10T05:03:10.310837Z",
     "iopub.status.busy": "2024-05-10T05:03:10.310493Z",
     "iopub.status.idle": "2024-05-10T05:03:10.342036Z",
     "shell.execute_reply": "2024-05-10T05:03:10.340921Z"
    },
    "papermill": {
     "duration": 0.038149,
     "end_time": "2024-05-10T05:03:10.344562",
     "exception": false,
     "start_time": "2024-05-10T05:03:10.306413",
     "status": "completed"
    },
    "tags": []
   },
   "outputs": [
    {
     "data": {
      "text/html": [
       "<div>\n",
       "<style scoped>\n",
       "    .dataframe tbody tr th:only-of-type {\n",
       "        vertical-align: middle;\n",
       "    }\n",
       "\n",
       "    .dataframe tbody tr th {\n",
       "        vertical-align: top;\n",
       "    }\n",
       "\n",
       "    .dataframe thead th {\n",
       "        text-align: right;\n",
       "    }\n",
       "</style>\n",
       "<table border=\"1\" class=\"dataframe\">\n",
       "  <thead>\n",
       "    <tr style=\"text-align: right;\">\n",
       "      <th></th>\n",
       "      <th>name</th>\n",
       "      <th>mfr</th>\n",
       "      <th>type</th>\n",
       "      <th>calories</th>\n",
       "      <th>protein</th>\n",
       "      <th>fat</th>\n",
       "      <th>sodium</th>\n",
       "      <th>fiber</th>\n",
       "      <th>carbo</th>\n",
       "      <th>sugars</th>\n",
       "      <th>potass</th>\n",
       "      <th>vitamins</th>\n",
       "      <th>shelf</th>\n",
       "      <th>weight</th>\n",
       "      <th>cups</th>\n",
       "      <th>rating</th>\n",
       "    </tr>\n",
       "  </thead>\n",
       "  <tbody>\n",
       "    <tr>\n",
       "      <th>0</th>\n",
       "      <td>100% Bran</td>\n",
       "      <td>N</td>\n",
       "      <td>C</td>\n",
       "      <td>70</td>\n",
       "      <td>4</td>\n",
       "      <td>1</td>\n",
       "      <td>130</td>\n",
       "      <td>10.0</td>\n",
       "      <td>5.0</td>\n",
       "      <td>6</td>\n",
       "      <td>280</td>\n",
       "      <td>25</td>\n",
       "      <td>3</td>\n",
       "      <td>1.0</td>\n",
       "      <td>0.33</td>\n",
       "      <td>68.402973</td>\n",
       "    </tr>\n",
       "    <tr>\n",
       "      <th>1</th>\n",
       "      <td>100% Natural Bran</td>\n",
       "      <td>Q</td>\n",
       "      <td>C</td>\n",
       "      <td>120</td>\n",
       "      <td>3</td>\n",
       "      <td>5</td>\n",
       "      <td>15</td>\n",
       "      <td>2.0</td>\n",
       "      <td>8.0</td>\n",
       "      <td>8</td>\n",
       "      <td>135</td>\n",
       "      <td>0</td>\n",
       "      <td>3</td>\n",
       "      <td>1.0</td>\n",
       "      <td>1.00</td>\n",
       "      <td>33.983679</td>\n",
       "    </tr>\n",
       "    <tr>\n",
       "      <th>2</th>\n",
       "      <td>All-Bran</td>\n",
       "      <td>K</td>\n",
       "      <td>C</td>\n",
       "      <td>70</td>\n",
       "      <td>4</td>\n",
       "      <td>1</td>\n",
       "      <td>260</td>\n",
       "      <td>9.0</td>\n",
       "      <td>7.0</td>\n",
       "      <td>5</td>\n",
       "      <td>320</td>\n",
       "      <td>25</td>\n",
       "      <td>3</td>\n",
       "      <td>1.0</td>\n",
       "      <td>0.33</td>\n",
       "      <td>59.425505</td>\n",
       "    </tr>\n",
       "    <tr>\n",
       "      <th>3</th>\n",
       "      <td>All-Bran with Extra Fiber</td>\n",
       "      <td>K</td>\n",
       "      <td>C</td>\n",
       "      <td>50</td>\n",
       "      <td>4</td>\n",
       "      <td>0</td>\n",
       "      <td>140</td>\n",
       "      <td>14.0</td>\n",
       "      <td>8.0</td>\n",
       "      <td>0</td>\n",
       "      <td>330</td>\n",
       "      <td>25</td>\n",
       "      <td>3</td>\n",
       "      <td>1.0</td>\n",
       "      <td>0.50</td>\n",
       "      <td>93.704912</td>\n",
       "    </tr>\n",
       "    <tr>\n",
       "      <th>4</th>\n",
       "      <td>Almond Delight</td>\n",
       "      <td>R</td>\n",
       "      <td>C</td>\n",
       "      <td>110</td>\n",
       "      <td>2</td>\n",
       "      <td>2</td>\n",
       "      <td>200</td>\n",
       "      <td>1.0</td>\n",
       "      <td>14.0</td>\n",
       "      <td>8</td>\n",
       "      <td>-1</td>\n",
       "      <td>25</td>\n",
       "      <td>3</td>\n",
       "      <td>1.0</td>\n",
       "      <td>0.75</td>\n",
       "      <td>34.384843</td>\n",
       "    </tr>\n",
       "  </tbody>\n",
       "</table>\n",
       "</div>"
      ],
      "text/plain": [
       "                        name mfr type  calories  protein  fat  sodium  fiber  \\\n",
       "0                  100% Bran   N    C        70        4    1     130   10.0   \n",
       "1          100% Natural Bran   Q    C       120        3    5      15    2.0   \n",
       "2                   All-Bran   K    C        70        4    1     260    9.0   \n",
       "3  All-Bran with Extra Fiber   K    C        50        4    0     140   14.0   \n",
       "4             Almond Delight   R    C       110        2    2     200    1.0   \n",
       "\n",
       "   carbo  sugars  potass  vitamins  shelf  weight  cups     rating  \n",
       "0    5.0       6     280        25      3     1.0  0.33  68.402973  \n",
       "1    8.0       8     135         0      3     1.0  1.00  33.983679  \n",
       "2    7.0       5     320        25      3     1.0  0.33  59.425505  \n",
       "3    8.0       0     330        25      3     1.0  0.50  93.704912  \n",
       "4   14.0       8      -1        25      3     1.0  0.75  34.384843  "
      ]
     },
     "execution_count": 3,
     "metadata": {},
     "output_type": "execute_result"
    }
   ],
   "source": [
    "#Check that data loaded properly\n",
    "cereal_data.head()"
   ]
  },
  {
   "cell_type": "code",
   "execution_count": 4,
   "id": "d4aa135c",
   "metadata": {
    "execution": {
     "iopub.execute_input": "2024-05-10T05:03:10.352861Z",
     "iopub.status.busy": "2024-05-10T05:03:10.352490Z",
     "iopub.status.idle": "2024-05-10T05:03:12.627326Z",
     "shell.execute_reply": "2024-05-10T05:03:12.626548Z"
    },
    "papermill": {
     "duration": 2.281336,
     "end_time": "2024-05-10T05:03:12.629507",
     "exception": false,
     "start_time": "2024-05-10T05:03:10.348171",
     "status": "completed"
    },
    "tags": []
   },
   "outputs": [
    {
     "name": "stderr",
     "output_type": "stream",
     "text": [
      "/opt/conda/lib/python3.10/site-packages/plotly/express/_core.py:2065: FutureWarning: When grouping with a length-1 list-like, you will need to pass a length-1 tuple to get_group in a future version of pandas. Pass `(name,)` instead of `name` to silence this warning.\n",
      "  sf: grouped.get_group(s if len(s) > 1 else s[0])\n"
     ]
    },
    {
     "data": {
      "text/html": [
       "        <script type=\"text/javascript\">\n",
       "        window.PlotlyConfig = {MathJaxConfig: 'local'};\n",
       "        if (window.MathJax && window.MathJax.Hub && window.MathJax.Hub.Config) {window.MathJax.Hub.Config({SVG: {font: \"STIX-Web\"}});}\n",
       "        if (typeof require !== 'undefined') {\n",
       "        require.undef(\"plotly\");\n",
       "        requirejs.config({\n",
       "            paths: {\n",
       "                'plotly': ['https://cdn.plot.ly/plotly-2.27.0.min']\n",
       "            }\n",
       "        });\n",
       "        require(['plotly'], function(Plotly) {\n",
       "            window._Plotly = Plotly;\n",
       "        });\n",
       "        }\n",
       "        </script>\n",
       "        "
      ]
     },
     "metadata": {},
     "output_type": "display_data"
    },
    {
     "data": {
      "text/html": [
       "<div>                            <div id=\"f7c02906-bbfd-4b84-82d4-9d81d0b879af\" class=\"plotly-graph-div\" style=\"height:525px; width:100%;\"></div>            <script type=\"text/javascript\">                require([\"plotly\"], function(Plotly) {                    window.PLOTLYENV=window.PLOTLYENV || {};                                    if (document.getElementById(\"f7c02906-bbfd-4b84-82d4-9d81d0b879af\")) {                    Plotly.newPlot(                        \"f7c02906-bbfd-4b84-82d4-9d81d0b879af\",                        [{\"hovertemplate\":\"\\u003cb\\u003e%{hovertext}\\u003c\\u002fb\\u003e\\u003cbr\\u003e\\u003cbr\\u003eCereal Name=100% Bran\\u003cbr\\u003eProtein=%{x}\\u003cbr\\u003eCarbohydrates=%{y}\\u003cextra\\u003e\\u003c\\u002fextra\\u003e\",\"hovertext\":[\"100% Bran\"],\"legendgroup\":\"100% Bran\",\"marker\":{\"color\":\"#636efa\",\"symbol\":\"circle\",\"opacity\":0.6,\"size\":8},\"mode\":\"markers\",\"name\":\"100% Bran\",\"orientation\":\"v\",\"showlegend\":true,\"x\":[4],\"xaxis\":\"x\",\"y\":[5.0],\"yaxis\":\"y\",\"type\":\"scatter\"},{\"hovertemplate\":\"\\u003cb\\u003e%{hovertext}\\u003c\\u002fb\\u003e\\u003cbr\\u003e\\u003cbr\\u003eCereal Name=100% Natural Bran\\u003cbr\\u003eProtein=%{x}\\u003cbr\\u003eCarbohydrates=%{y}\\u003cextra\\u003e\\u003c\\u002fextra\\u003e\",\"hovertext\":[\"100% Natural Bran\"],\"legendgroup\":\"100% Natural Bran\",\"marker\":{\"color\":\"#EF553B\",\"symbol\":\"circle\",\"opacity\":0.6,\"size\":8},\"mode\":\"markers\",\"name\":\"100% Natural Bran\",\"orientation\":\"v\",\"showlegend\":true,\"x\":[3],\"xaxis\":\"x\",\"y\":[8.0],\"yaxis\":\"y\",\"type\":\"scatter\"},{\"hovertemplate\":\"\\u003cb\\u003e%{hovertext}\\u003c\\u002fb\\u003e\\u003cbr\\u003e\\u003cbr\\u003eCereal Name=All-Bran\\u003cbr\\u003eProtein=%{x}\\u003cbr\\u003eCarbohydrates=%{y}\\u003cextra\\u003e\\u003c\\u002fextra\\u003e\",\"hovertext\":[\"All-Bran\"],\"legendgroup\":\"All-Bran\",\"marker\":{\"color\":\"#00cc96\",\"symbol\":\"circle\",\"opacity\":0.6,\"size\":8},\"mode\":\"markers\",\"name\":\"All-Bran\",\"orientation\":\"v\",\"showlegend\":true,\"x\":[4],\"xaxis\":\"x\",\"y\":[7.0],\"yaxis\":\"y\",\"type\":\"scatter\"},{\"hovertemplate\":\"\\u003cb\\u003e%{hovertext}\\u003c\\u002fb\\u003e\\u003cbr\\u003e\\u003cbr\\u003eCereal Name=All-Bran with Extra Fiber\\u003cbr\\u003eProtein=%{x}\\u003cbr\\u003eCarbohydrates=%{y}\\u003cextra\\u003e\\u003c\\u002fextra\\u003e\",\"hovertext\":[\"All-Bran with Extra Fiber\"],\"legendgroup\":\"All-Bran with Extra Fiber\",\"marker\":{\"color\":\"#ab63fa\",\"symbol\":\"circle\",\"opacity\":0.6,\"size\":8},\"mode\":\"markers\",\"name\":\"All-Bran with Extra Fiber\",\"orientation\":\"v\",\"showlegend\":true,\"x\":[4],\"xaxis\":\"x\",\"y\":[8.0],\"yaxis\":\"y\",\"type\":\"scatter\"},{\"hovertemplate\":\"\\u003cb\\u003e%{hovertext}\\u003c\\u002fb\\u003e\\u003cbr\\u003e\\u003cbr\\u003eCereal Name=Almond Delight\\u003cbr\\u003eProtein=%{x}\\u003cbr\\u003eCarbohydrates=%{y}\\u003cextra\\u003e\\u003c\\u002fextra\\u003e\",\"hovertext\":[\"Almond Delight\"],\"legendgroup\":\"Almond Delight\",\"marker\":{\"color\":\"#FFA15A\",\"symbol\":\"circle\",\"opacity\":0.6,\"size\":8},\"mode\":\"markers\",\"name\":\"Almond Delight\",\"orientation\":\"v\",\"showlegend\":true,\"x\":[2],\"xaxis\":\"x\",\"y\":[14.0],\"yaxis\":\"y\",\"type\":\"scatter\"},{\"hovertemplate\":\"\\u003cb\\u003e%{hovertext}\\u003c\\u002fb\\u003e\\u003cbr\\u003e\\u003cbr\\u003eCereal Name=Apple Cinnamon Cheerios\\u003cbr\\u003eProtein=%{x}\\u003cbr\\u003eCarbohydrates=%{y}\\u003cextra\\u003e\\u003c\\u002fextra\\u003e\",\"hovertext\":[\"Apple Cinnamon Cheerios\"],\"legendgroup\":\"Apple Cinnamon Cheerios\",\"marker\":{\"color\":\"#19d3f3\",\"symbol\":\"circle\",\"opacity\":0.6,\"size\":8},\"mode\":\"markers\",\"name\":\"Apple Cinnamon Cheerios\",\"orientation\":\"v\",\"showlegend\":true,\"x\":[2],\"xaxis\":\"x\",\"y\":[10.5],\"yaxis\":\"y\",\"type\":\"scatter\"},{\"hovertemplate\":\"\\u003cb\\u003e%{hovertext}\\u003c\\u002fb\\u003e\\u003cbr\\u003e\\u003cbr\\u003eCereal Name=Apple Jacks\\u003cbr\\u003eProtein=%{x}\\u003cbr\\u003eCarbohydrates=%{y}\\u003cextra\\u003e\\u003c\\u002fextra\\u003e\",\"hovertext\":[\"Apple Jacks\"],\"legendgroup\":\"Apple Jacks\",\"marker\":{\"color\":\"#FF6692\",\"symbol\":\"circle\",\"opacity\":0.6,\"size\":8},\"mode\":\"markers\",\"name\":\"Apple Jacks\",\"orientation\":\"v\",\"showlegend\":true,\"x\":[2],\"xaxis\":\"x\",\"y\":[11.0],\"yaxis\":\"y\",\"type\":\"scatter\"},{\"hovertemplate\":\"\\u003cb\\u003e%{hovertext}\\u003c\\u002fb\\u003e\\u003cbr\\u003e\\u003cbr\\u003eCereal Name=Basic 4\\u003cbr\\u003eProtein=%{x}\\u003cbr\\u003eCarbohydrates=%{y}\\u003cextra\\u003e\\u003c\\u002fextra\\u003e\",\"hovertext\":[\"Basic 4\"],\"legendgroup\":\"Basic 4\",\"marker\":{\"color\":\"#B6E880\",\"symbol\":\"circle\",\"opacity\":0.6,\"size\":8},\"mode\":\"markers\",\"name\":\"Basic 4\",\"orientation\":\"v\",\"showlegend\":true,\"x\":[3],\"xaxis\":\"x\",\"y\":[18.0],\"yaxis\":\"y\",\"type\":\"scatter\"},{\"hovertemplate\":\"\\u003cb\\u003e%{hovertext}\\u003c\\u002fb\\u003e\\u003cbr\\u003e\\u003cbr\\u003eCereal Name=Bran Chex\\u003cbr\\u003eProtein=%{x}\\u003cbr\\u003eCarbohydrates=%{y}\\u003cextra\\u003e\\u003c\\u002fextra\\u003e\",\"hovertext\":[\"Bran Chex\"],\"legendgroup\":\"Bran Chex\",\"marker\":{\"color\":\"#FF97FF\",\"symbol\":\"circle\",\"opacity\":0.6,\"size\":8},\"mode\":\"markers\",\"name\":\"Bran Chex\",\"orientation\":\"v\",\"showlegend\":true,\"x\":[2],\"xaxis\":\"x\",\"y\":[15.0],\"yaxis\":\"y\",\"type\":\"scatter\"},{\"hovertemplate\":\"\\u003cb\\u003e%{hovertext}\\u003c\\u002fb\\u003e\\u003cbr\\u003e\\u003cbr\\u003eCereal Name=Bran Flakes\\u003cbr\\u003eProtein=%{x}\\u003cbr\\u003eCarbohydrates=%{y}\\u003cextra\\u003e\\u003c\\u002fextra\\u003e\",\"hovertext\":[\"Bran Flakes\"],\"legendgroup\":\"Bran Flakes\",\"marker\":{\"color\":\"#FECB52\",\"symbol\":\"circle\",\"opacity\":0.6,\"size\":8},\"mode\":\"markers\",\"name\":\"Bran Flakes\",\"orientation\":\"v\",\"showlegend\":true,\"x\":[3],\"xaxis\":\"x\",\"y\":[13.0],\"yaxis\":\"y\",\"type\":\"scatter\"},{\"hovertemplate\":\"\\u003cb\\u003e%{hovertext}\\u003c\\u002fb\\u003e\\u003cbr\\u003e\\u003cbr\\u003eCereal Name=Cap'n'Crunch\\u003cbr\\u003eProtein=%{x}\\u003cbr\\u003eCarbohydrates=%{y}\\u003cextra\\u003e\\u003c\\u002fextra\\u003e\",\"hovertext\":[\"Cap'n'Crunch\"],\"legendgroup\":\"Cap'n'Crunch\",\"marker\":{\"color\":\"#636efa\",\"symbol\":\"circle\",\"opacity\":0.6,\"size\":8},\"mode\":\"markers\",\"name\":\"Cap'n'Crunch\",\"orientation\":\"v\",\"showlegend\":true,\"x\":[1],\"xaxis\":\"x\",\"y\":[12.0],\"yaxis\":\"y\",\"type\":\"scatter\"},{\"hovertemplate\":\"\\u003cb\\u003e%{hovertext}\\u003c\\u002fb\\u003e\\u003cbr\\u003e\\u003cbr\\u003eCereal Name=Cheerios\\u003cbr\\u003eProtein=%{x}\\u003cbr\\u003eCarbohydrates=%{y}\\u003cextra\\u003e\\u003c\\u002fextra\\u003e\",\"hovertext\":[\"Cheerios\"],\"legendgroup\":\"Cheerios\",\"marker\":{\"color\":\"#EF553B\",\"symbol\":\"circle\",\"opacity\":0.6,\"size\":8},\"mode\":\"markers\",\"name\":\"Cheerios\",\"orientation\":\"v\",\"showlegend\":true,\"x\":[6],\"xaxis\":\"x\",\"y\":[17.0],\"yaxis\":\"y\",\"type\":\"scatter\"},{\"hovertemplate\":\"\\u003cb\\u003e%{hovertext}\\u003c\\u002fb\\u003e\\u003cbr\\u003e\\u003cbr\\u003eCereal Name=Cinnamon Toast Crunch\\u003cbr\\u003eProtein=%{x}\\u003cbr\\u003eCarbohydrates=%{y}\\u003cextra\\u003e\\u003c\\u002fextra\\u003e\",\"hovertext\":[\"Cinnamon Toast Crunch\"],\"legendgroup\":\"Cinnamon Toast Crunch\",\"marker\":{\"color\":\"#00cc96\",\"symbol\":\"circle\",\"opacity\":0.6,\"size\":8},\"mode\":\"markers\",\"name\":\"Cinnamon Toast Crunch\",\"orientation\":\"v\",\"showlegend\":true,\"x\":[1],\"xaxis\":\"x\",\"y\":[13.0],\"yaxis\":\"y\",\"type\":\"scatter\"},{\"hovertemplate\":\"\\u003cb\\u003e%{hovertext}\\u003c\\u002fb\\u003e\\u003cbr\\u003e\\u003cbr\\u003eCereal Name=Clusters\\u003cbr\\u003eProtein=%{x}\\u003cbr\\u003eCarbohydrates=%{y}\\u003cextra\\u003e\\u003c\\u002fextra\\u003e\",\"hovertext\":[\"Clusters\"],\"legendgroup\":\"Clusters\",\"marker\":{\"color\":\"#ab63fa\",\"symbol\":\"circle\",\"opacity\":0.6,\"size\":8},\"mode\":\"markers\",\"name\":\"Clusters\",\"orientation\":\"v\",\"showlegend\":true,\"x\":[3],\"xaxis\":\"x\",\"y\":[13.0],\"yaxis\":\"y\",\"type\":\"scatter\"},{\"hovertemplate\":\"\\u003cb\\u003e%{hovertext}\\u003c\\u002fb\\u003e\\u003cbr\\u003e\\u003cbr\\u003eCereal Name=Cocoa Puffs\\u003cbr\\u003eProtein=%{x}\\u003cbr\\u003eCarbohydrates=%{y}\\u003cextra\\u003e\\u003c\\u002fextra\\u003e\",\"hovertext\":[\"Cocoa Puffs\"],\"legendgroup\":\"Cocoa Puffs\",\"marker\":{\"color\":\"#FFA15A\",\"symbol\":\"circle\",\"opacity\":0.6,\"size\":8},\"mode\":\"markers\",\"name\":\"Cocoa Puffs\",\"orientation\":\"v\",\"showlegend\":true,\"x\":[1],\"xaxis\":\"x\",\"y\":[12.0],\"yaxis\":\"y\",\"type\":\"scatter\"},{\"hovertemplate\":\"\\u003cb\\u003e%{hovertext}\\u003c\\u002fb\\u003e\\u003cbr\\u003e\\u003cbr\\u003eCereal Name=Corn Chex\\u003cbr\\u003eProtein=%{x}\\u003cbr\\u003eCarbohydrates=%{y}\\u003cextra\\u003e\\u003c\\u002fextra\\u003e\",\"hovertext\":[\"Corn Chex\"],\"legendgroup\":\"Corn Chex\",\"marker\":{\"color\":\"#19d3f3\",\"symbol\":\"circle\",\"opacity\":0.6,\"size\":8},\"mode\":\"markers\",\"name\":\"Corn Chex\",\"orientation\":\"v\",\"showlegend\":true,\"x\":[2],\"xaxis\":\"x\",\"y\":[22.0],\"yaxis\":\"y\",\"type\":\"scatter\"},{\"hovertemplate\":\"\\u003cb\\u003e%{hovertext}\\u003c\\u002fb\\u003e\\u003cbr\\u003e\\u003cbr\\u003eCereal Name=Corn Flakes\\u003cbr\\u003eProtein=%{x}\\u003cbr\\u003eCarbohydrates=%{y}\\u003cextra\\u003e\\u003c\\u002fextra\\u003e\",\"hovertext\":[\"Corn Flakes\"],\"legendgroup\":\"Corn Flakes\",\"marker\":{\"color\":\"#FF6692\",\"symbol\":\"circle\",\"opacity\":0.6,\"size\":8},\"mode\":\"markers\",\"name\":\"Corn Flakes\",\"orientation\":\"v\",\"showlegend\":true,\"x\":[2],\"xaxis\":\"x\",\"y\":[21.0],\"yaxis\":\"y\",\"type\":\"scatter\"},{\"hovertemplate\":\"\\u003cb\\u003e%{hovertext}\\u003c\\u002fb\\u003e\\u003cbr\\u003e\\u003cbr\\u003eCereal Name=Corn Pops\\u003cbr\\u003eProtein=%{x}\\u003cbr\\u003eCarbohydrates=%{y}\\u003cextra\\u003e\\u003c\\u002fextra\\u003e\",\"hovertext\":[\"Corn Pops\"],\"legendgroup\":\"Corn Pops\",\"marker\":{\"color\":\"#B6E880\",\"symbol\":\"circle\",\"opacity\":0.6,\"size\":8},\"mode\":\"markers\",\"name\":\"Corn Pops\",\"orientation\":\"v\",\"showlegend\":true,\"x\":[1],\"xaxis\":\"x\",\"y\":[13.0],\"yaxis\":\"y\",\"type\":\"scatter\"},{\"hovertemplate\":\"\\u003cb\\u003e%{hovertext}\\u003c\\u002fb\\u003e\\u003cbr\\u003e\\u003cbr\\u003eCereal Name=Count Chocula\\u003cbr\\u003eProtein=%{x}\\u003cbr\\u003eCarbohydrates=%{y}\\u003cextra\\u003e\\u003c\\u002fextra\\u003e\",\"hovertext\":[\"Count Chocula\"],\"legendgroup\":\"Count Chocula\",\"marker\":{\"color\":\"#FF97FF\",\"symbol\":\"circle\",\"opacity\":0.6,\"size\":8},\"mode\":\"markers\",\"name\":\"Count Chocula\",\"orientation\":\"v\",\"showlegend\":true,\"x\":[1],\"xaxis\":\"x\",\"y\":[12.0],\"yaxis\":\"y\",\"type\":\"scatter\"},{\"hovertemplate\":\"\\u003cb\\u003e%{hovertext}\\u003c\\u002fb\\u003e\\u003cbr\\u003e\\u003cbr\\u003eCereal Name=Cracklin' Oat Bran\\u003cbr\\u003eProtein=%{x}\\u003cbr\\u003eCarbohydrates=%{y}\\u003cextra\\u003e\\u003c\\u002fextra\\u003e\",\"hovertext\":[\"Cracklin' Oat Bran\"],\"legendgroup\":\"Cracklin' Oat Bran\",\"marker\":{\"color\":\"#FECB52\",\"symbol\":\"circle\",\"opacity\":0.6,\"size\":8},\"mode\":\"markers\",\"name\":\"Cracklin' Oat Bran\",\"orientation\":\"v\",\"showlegend\":true,\"x\":[3],\"xaxis\":\"x\",\"y\":[10.0],\"yaxis\":\"y\",\"type\":\"scatter\"},{\"hovertemplate\":\"\\u003cb\\u003e%{hovertext}\\u003c\\u002fb\\u003e\\u003cbr\\u003e\\u003cbr\\u003eCereal Name=Cream of Wheat (Quick)\\u003cbr\\u003eProtein=%{x}\\u003cbr\\u003eCarbohydrates=%{y}\\u003cextra\\u003e\\u003c\\u002fextra\\u003e\",\"hovertext\":[\"Cream of Wheat (Quick)\"],\"legendgroup\":\"Cream of Wheat (Quick)\",\"marker\":{\"color\":\"#636efa\",\"symbol\":\"circle\",\"opacity\":0.6,\"size\":8},\"mode\":\"markers\",\"name\":\"Cream of Wheat (Quick)\",\"orientation\":\"v\",\"showlegend\":true,\"x\":[3],\"xaxis\":\"x\",\"y\":[21.0],\"yaxis\":\"y\",\"type\":\"scatter\"},{\"hovertemplate\":\"\\u003cb\\u003e%{hovertext}\\u003c\\u002fb\\u003e\\u003cbr\\u003e\\u003cbr\\u003eCereal Name=Crispix\\u003cbr\\u003eProtein=%{x}\\u003cbr\\u003eCarbohydrates=%{y}\\u003cextra\\u003e\\u003c\\u002fextra\\u003e\",\"hovertext\":[\"Crispix\"],\"legendgroup\":\"Crispix\",\"marker\":{\"color\":\"#EF553B\",\"symbol\":\"circle\",\"opacity\":0.6,\"size\":8},\"mode\":\"markers\",\"name\":\"Crispix\",\"orientation\":\"v\",\"showlegend\":true,\"x\":[2],\"xaxis\":\"x\",\"y\":[21.0],\"yaxis\":\"y\",\"type\":\"scatter\"},{\"hovertemplate\":\"\\u003cb\\u003e%{hovertext}\\u003c\\u002fb\\u003e\\u003cbr\\u003e\\u003cbr\\u003eCereal Name=Crispy Wheat & Raisins\\u003cbr\\u003eProtein=%{x}\\u003cbr\\u003eCarbohydrates=%{y}\\u003cextra\\u003e\\u003c\\u002fextra\\u003e\",\"hovertext\":[\"Crispy Wheat & Raisins\"],\"legendgroup\":\"Crispy Wheat & Raisins\",\"marker\":{\"color\":\"#00cc96\",\"symbol\":\"circle\",\"opacity\":0.6,\"size\":8},\"mode\":\"markers\",\"name\":\"Crispy Wheat & Raisins\",\"orientation\":\"v\",\"showlegend\":true,\"x\":[2],\"xaxis\":\"x\",\"y\":[11.0],\"yaxis\":\"y\",\"type\":\"scatter\"},{\"hovertemplate\":\"\\u003cb\\u003e%{hovertext}\\u003c\\u002fb\\u003e\\u003cbr\\u003e\\u003cbr\\u003eCereal Name=Double Chex\\u003cbr\\u003eProtein=%{x}\\u003cbr\\u003eCarbohydrates=%{y}\\u003cextra\\u003e\\u003c\\u002fextra\\u003e\",\"hovertext\":[\"Double Chex\"],\"legendgroup\":\"Double Chex\",\"marker\":{\"color\":\"#ab63fa\",\"symbol\":\"circle\",\"opacity\":0.6,\"size\":8},\"mode\":\"markers\",\"name\":\"Double Chex\",\"orientation\":\"v\",\"showlegend\":true,\"x\":[2],\"xaxis\":\"x\",\"y\":[18.0],\"yaxis\":\"y\",\"type\":\"scatter\"},{\"hovertemplate\":\"\\u003cb\\u003e%{hovertext}\\u003c\\u002fb\\u003e\\u003cbr\\u003e\\u003cbr\\u003eCereal Name=Froot Loops\\u003cbr\\u003eProtein=%{x}\\u003cbr\\u003eCarbohydrates=%{y}\\u003cextra\\u003e\\u003c\\u002fextra\\u003e\",\"hovertext\":[\"Froot Loops\"],\"legendgroup\":\"Froot Loops\",\"marker\":{\"color\":\"#FFA15A\",\"symbol\":\"circle\",\"opacity\":0.6,\"size\":8},\"mode\":\"markers\",\"name\":\"Froot Loops\",\"orientation\":\"v\",\"showlegend\":true,\"x\":[2],\"xaxis\":\"x\",\"y\":[11.0],\"yaxis\":\"y\",\"type\":\"scatter\"},{\"hovertemplate\":\"\\u003cb\\u003e%{hovertext}\\u003c\\u002fb\\u003e\\u003cbr\\u003e\\u003cbr\\u003eCereal Name=Frosted Flakes\\u003cbr\\u003eProtein=%{x}\\u003cbr\\u003eCarbohydrates=%{y}\\u003cextra\\u003e\\u003c\\u002fextra\\u003e\",\"hovertext\":[\"Frosted Flakes\"],\"legendgroup\":\"Frosted Flakes\",\"marker\":{\"color\":\"#19d3f3\",\"symbol\":\"circle\",\"opacity\":0.6,\"size\":8},\"mode\":\"markers\",\"name\":\"Frosted Flakes\",\"orientation\":\"v\",\"showlegend\":true,\"x\":[1],\"xaxis\":\"x\",\"y\":[14.0],\"yaxis\":\"y\",\"type\":\"scatter\"},{\"hovertemplate\":\"\\u003cb\\u003e%{hovertext}\\u003c\\u002fb\\u003e\\u003cbr\\u003e\\u003cbr\\u003eCereal Name=Frosted Mini-Wheats\\u003cbr\\u003eProtein=%{x}\\u003cbr\\u003eCarbohydrates=%{y}\\u003cextra\\u003e\\u003c\\u002fextra\\u003e\",\"hovertext\":[\"Frosted Mini-Wheats\"],\"legendgroup\":\"Frosted Mini-Wheats\",\"marker\":{\"color\":\"#FF6692\",\"symbol\":\"circle\",\"opacity\":0.6,\"size\":8},\"mode\":\"markers\",\"name\":\"Frosted Mini-Wheats\",\"orientation\":\"v\",\"showlegend\":true,\"x\":[3],\"xaxis\":\"x\",\"y\":[14.0],\"yaxis\":\"y\",\"type\":\"scatter\"},{\"hovertemplate\":\"\\u003cb\\u003e%{hovertext}\\u003c\\u002fb\\u003e\\u003cbr\\u003e\\u003cbr\\u003eCereal Name=Fruit & Fibre Dates; Walnuts; and Oats\\u003cbr\\u003eProtein=%{x}\\u003cbr\\u003eCarbohydrates=%{y}\\u003cextra\\u003e\\u003c\\u002fextra\\u003e\",\"hovertext\":[\"Fruit & Fibre Dates; Walnuts; and Oats\"],\"legendgroup\":\"Fruit & Fibre Dates; Walnuts; and Oats\",\"marker\":{\"color\":\"#B6E880\",\"symbol\":\"circle\",\"opacity\":0.6,\"size\":8},\"mode\":\"markers\",\"name\":\"Fruit & Fibre Dates; Walnuts; and Oats\",\"orientation\":\"v\",\"showlegend\":true,\"x\":[3],\"xaxis\":\"x\",\"y\":[12.0],\"yaxis\":\"y\",\"type\":\"scatter\"},{\"hovertemplate\":\"\\u003cb\\u003e%{hovertext}\\u003c\\u002fb\\u003e\\u003cbr\\u003e\\u003cbr\\u003eCereal Name=Fruitful Bran\\u003cbr\\u003eProtein=%{x}\\u003cbr\\u003eCarbohydrates=%{y}\\u003cextra\\u003e\\u003c\\u002fextra\\u003e\",\"hovertext\":[\"Fruitful Bran\"],\"legendgroup\":\"Fruitful Bran\",\"marker\":{\"color\":\"#FF97FF\",\"symbol\":\"circle\",\"opacity\":0.6,\"size\":8},\"mode\":\"markers\",\"name\":\"Fruitful Bran\",\"orientation\":\"v\",\"showlegend\":true,\"x\":[3],\"xaxis\":\"x\",\"y\":[14.0],\"yaxis\":\"y\",\"type\":\"scatter\"},{\"hovertemplate\":\"\\u003cb\\u003e%{hovertext}\\u003c\\u002fb\\u003e\\u003cbr\\u003e\\u003cbr\\u003eCereal Name=Fruity Pebbles\\u003cbr\\u003eProtein=%{x}\\u003cbr\\u003eCarbohydrates=%{y}\\u003cextra\\u003e\\u003c\\u002fextra\\u003e\",\"hovertext\":[\"Fruity Pebbles\"],\"legendgroup\":\"Fruity Pebbles\",\"marker\":{\"color\":\"#FECB52\",\"symbol\":\"circle\",\"opacity\":0.6,\"size\":8},\"mode\":\"markers\",\"name\":\"Fruity Pebbles\",\"orientation\":\"v\",\"showlegend\":true,\"x\":[1],\"xaxis\":\"x\",\"y\":[13.0],\"yaxis\":\"y\",\"type\":\"scatter\"},{\"hovertemplate\":\"\\u003cb\\u003e%{hovertext}\\u003c\\u002fb\\u003e\\u003cbr\\u003e\\u003cbr\\u003eCereal Name=Golden Crisp\\u003cbr\\u003eProtein=%{x}\\u003cbr\\u003eCarbohydrates=%{y}\\u003cextra\\u003e\\u003c\\u002fextra\\u003e\",\"hovertext\":[\"Golden Crisp\"],\"legendgroup\":\"Golden Crisp\",\"marker\":{\"color\":\"#636efa\",\"symbol\":\"circle\",\"opacity\":0.6,\"size\":8},\"mode\":\"markers\",\"name\":\"Golden Crisp\",\"orientation\":\"v\",\"showlegend\":true,\"x\":[2],\"xaxis\":\"x\",\"y\":[11.0],\"yaxis\":\"y\",\"type\":\"scatter\"},{\"hovertemplate\":\"\\u003cb\\u003e%{hovertext}\\u003c\\u002fb\\u003e\\u003cbr\\u003e\\u003cbr\\u003eCereal Name=Golden Grahams\\u003cbr\\u003eProtein=%{x}\\u003cbr\\u003eCarbohydrates=%{y}\\u003cextra\\u003e\\u003c\\u002fextra\\u003e\",\"hovertext\":[\"Golden Grahams\"],\"legendgroup\":\"Golden Grahams\",\"marker\":{\"color\":\"#EF553B\",\"symbol\":\"circle\",\"opacity\":0.6,\"size\":8},\"mode\":\"markers\",\"name\":\"Golden Grahams\",\"orientation\":\"v\",\"showlegend\":true,\"x\":[1],\"xaxis\":\"x\",\"y\":[15.0],\"yaxis\":\"y\",\"type\":\"scatter\"},{\"hovertemplate\":\"\\u003cb\\u003e%{hovertext}\\u003c\\u002fb\\u003e\\u003cbr\\u003e\\u003cbr\\u003eCereal Name=Grape Nuts Flakes\\u003cbr\\u003eProtein=%{x}\\u003cbr\\u003eCarbohydrates=%{y}\\u003cextra\\u003e\\u003c\\u002fextra\\u003e\",\"hovertext\":[\"Grape Nuts Flakes\"],\"legendgroup\":\"Grape Nuts Flakes\",\"marker\":{\"color\":\"#00cc96\",\"symbol\":\"circle\",\"opacity\":0.6,\"size\":8},\"mode\":\"markers\",\"name\":\"Grape Nuts Flakes\",\"orientation\":\"v\",\"showlegend\":true,\"x\":[3],\"xaxis\":\"x\",\"y\":[15.0],\"yaxis\":\"y\",\"type\":\"scatter\"},{\"hovertemplate\":\"\\u003cb\\u003e%{hovertext}\\u003c\\u002fb\\u003e\\u003cbr\\u003e\\u003cbr\\u003eCereal Name=Grape-Nuts\\u003cbr\\u003eProtein=%{x}\\u003cbr\\u003eCarbohydrates=%{y}\\u003cextra\\u003e\\u003c\\u002fextra\\u003e\",\"hovertext\":[\"Grape-Nuts\"],\"legendgroup\":\"Grape-Nuts\",\"marker\":{\"color\":\"#ab63fa\",\"symbol\":\"circle\",\"opacity\":0.6,\"size\":8},\"mode\":\"markers\",\"name\":\"Grape-Nuts\",\"orientation\":\"v\",\"showlegend\":true,\"x\":[3],\"xaxis\":\"x\",\"y\":[17.0],\"yaxis\":\"y\",\"type\":\"scatter\"},{\"hovertemplate\":\"\\u003cb\\u003e%{hovertext}\\u003c\\u002fb\\u003e\\u003cbr\\u003e\\u003cbr\\u003eCereal Name=Great Grains Pecan\\u003cbr\\u003eProtein=%{x}\\u003cbr\\u003eCarbohydrates=%{y}\\u003cextra\\u003e\\u003c\\u002fextra\\u003e\",\"hovertext\":[\"Great Grains Pecan\"],\"legendgroup\":\"Great Grains Pecan\",\"marker\":{\"color\":\"#FFA15A\",\"symbol\":\"circle\",\"opacity\":0.6,\"size\":8},\"mode\":\"markers\",\"name\":\"Great Grains Pecan\",\"orientation\":\"v\",\"showlegend\":true,\"x\":[3],\"xaxis\":\"x\",\"y\":[13.0],\"yaxis\":\"y\",\"type\":\"scatter\"},{\"hovertemplate\":\"\\u003cb\\u003e%{hovertext}\\u003c\\u002fb\\u003e\\u003cbr\\u003e\\u003cbr\\u003eCereal Name=Honey Graham Ohs\\u003cbr\\u003eProtein=%{x}\\u003cbr\\u003eCarbohydrates=%{y}\\u003cextra\\u003e\\u003c\\u002fextra\\u003e\",\"hovertext\":[\"Honey Graham Ohs\"],\"legendgroup\":\"Honey Graham Ohs\",\"marker\":{\"color\":\"#19d3f3\",\"symbol\":\"circle\",\"opacity\":0.6,\"size\":8},\"mode\":\"markers\",\"name\":\"Honey Graham Ohs\",\"orientation\":\"v\",\"showlegend\":true,\"x\":[1],\"xaxis\":\"x\",\"y\":[12.0],\"yaxis\":\"y\",\"type\":\"scatter\"},{\"hovertemplate\":\"\\u003cb\\u003e%{hovertext}\\u003c\\u002fb\\u003e\\u003cbr\\u003e\\u003cbr\\u003eCereal Name=Honey Nut Cheerios\\u003cbr\\u003eProtein=%{x}\\u003cbr\\u003eCarbohydrates=%{y}\\u003cextra\\u003e\\u003c\\u002fextra\\u003e\",\"hovertext\":[\"Honey Nut Cheerios\"],\"legendgroup\":\"Honey Nut Cheerios\",\"marker\":{\"color\":\"#FF6692\",\"symbol\":\"circle\",\"opacity\":0.6,\"size\":8},\"mode\":\"markers\",\"name\":\"Honey Nut Cheerios\",\"orientation\":\"v\",\"showlegend\":true,\"x\":[3],\"xaxis\":\"x\",\"y\":[11.5],\"yaxis\":\"y\",\"type\":\"scatter\"},{\"hovertemplate\":\"\\u003cb\\u003e%{hovertext}\\u003c\\u002fb\\u003e\\u003cbr\\u003e\\u003cbr\\u003eCereal Name=Honey-comb\\u003cbr\\u003eProtein=%{x}\\u003cbr\\u003eCarbohydrates=%{y}\\u003cextra\\u003e\\u003c\\u002fextra\\u003e\",\"hovertext\":[\"Honey-comb\"],\"legendgroup\":\"Honey-comb\",\"marker\":{\"color\":\"#B6E880\",\"symbol\":\"circle\",\"opacity\":0.6,\"size\":8},\"mode\":\"markers\",\"name\":\"Honey-comb\",\"orientation\":\"v\",\"showlegend\":true,\"x\":[1],\"xaxis\":\"x\",\"y\":[14.0],\"yaxis\":\"y\",\"type\":\"scatter\"},{\"hovertemplate\":\"\\u003cb\\u003e%{hovertext}\\u003c\\u002fb\\u003e\\u003cbr\\u003e\\u003cbr\\u003eCereal Name=Just Right Crunchy  Nuggets\\u003cbr\\u003eProtein=%{x}\\u003cbr\\u003eCarbohydrates=%{y}\\u003cextra\\u003e\\u003c\\u002fextra\\u003e\",\"hovertext\":[\"Just Right Crunchy  Nuggets\"],\"legendgroup\":\"Just Right Crunchy  Nuggets\",\"marker\":{\"color\":\"#FF97FF\",\"symbol\":\"circle\",\"opacity\":0.6,\"size\":8},\"mode\":\"markers\",\"name\":\"Just Right Crunchy  Nuggets\",\"orientation\":\"v\",\"showlegend\":true,\"x\":[2],\"xaxis\":\"x\",\"y\":[17.0],\"yaxis\":\"y\",\"type\":\"scatter\"},{\"hovertemplate\":\"\\u003cb\\u003e%{hovertext}\\u003c\\u002fb\\u003e\\u003cbr\\u003e\\u003cbr\\u003eCereal Name=Just Right Fruit & Nut\\u003cbr\\u003eProtein=%{x}\\u003cbr\\u003eCarbohydrates=%{y}\\u003cextra\\u003e\\u003c\\u002fextra\\u003e\",\"hovertext\":[\"Just Right Fruit & Nut\"],\"legendgroup\":\"Just Right Fruit & Nut\",\"marker\":{\"color\":\"#FECB52\",\"symbol\":\"circle\",\"opacity\":0.6,\"size\":8},\"mode\":\"markers\",\"name\":\"Just Right Fruit & Nut\",\"orientation\":\"v\",\"showlegend\":true,\"x\":[3],\"xaxis\":\"x\",\"y\":[20.0],\"yaxis\":\"y\",\"type\":\"scatter\"},{\"hovertemplate\":\"\\u003cb\\u003e%{hovertext}\\u003c\\u002fb\\u003e\\u003cbr\\u003e\\u003cbr\\u003eCereal Name=Kix\\u003cbr\\u003eProtein=%{x}\\u003cbr\\u003eCarbohydrates=%{y}\\u003cextra\\u003e\\u003c\\u002fextra\\u003e\",\"hovertext\":[\"Kix\"],\"legendgroup\":\"Kix\",\"marker\":{\"color\":\"#636efa\",\"symbol\":\"circle\",\"opacity\":0.6,\"size\":8},\"mode\":\"markers\",\"name\":\"Kix\",\"orientation\":\"v\",\"showlegend\":true,\"x\":[2],\"xaxis\":\"x\",\"y\":[21.0],\"yaxis\":\"y\",\"type\":\"scatter\"},{\"hovertemplate\":\"\\u003cb\\u003e%{hovertext}\\u003c\\u002fb\\u003e\\u003cbr\\u003e\\u003cbr\\u003eCereal Name=Life\\u003cbr\\u003eProtein=%{x}\\u003cbr\\u003eCarbohydrates=%{y}\\u003cextra\\u003e\\u003c\\u002fextra\\u003e\",\"hovertext\":[\"Life\"],\"legendgroup\":\"Life\",\"marker\":{\"color\":\"#EF553B\",\"symbol\":\"circle\",\"opacity\":0.6,\"size\":8},\"mode\":\"markers\",\"name\":\"Life\",\"orientation\":\"v\",\"showlegend\":true,\"x\":[4],\"xaxis\":\"x\",\"y\":[12.0],\"yaxis\":\"y\",\"type\":\"scatter\"},{\"hovertemplate\":\"\\u003cb\\u003e%{hovertext}\\u003c\\u002fb\\u003e\\u003cbr\\u003e\\u003cbr\\u003eCereal Name=Lucky Charms\\u003cbr\\u003eProtein=%{x}\\u003cbr\\u003eCarbohydrates=%{y}\\u003cextra\\u003e\\u003c\\u002fextra\\u003e\",\"hovertext\":[\"Lucky Charms\"],\"legendgroup\":\"Lucky Charms\",\"marker\":{\"color\":\"#00cc96\",\"symbol\":\"circle\",\"opacity\":0.6,\"size\":8},\"mode\":\"markers\",\"name\":\"Lucky Charms\",\"orientation\":\"v\",\"showlegend\":true,\"x\":[2],\"xaxis\":\"x\",\"y\":[12.0],\"yaxis\":\"y\",\"type\":\"scatter\"},{\"hovertemplate\":\"\\u003cb\\u003e%{hovertext}\\u003c\\u002fb\\u003e\\u003cbr\\u003e\\u003cbr\\u003eCereal Name=Maypo\\u003cbr\\u003eProtein=%{x}\\u003cbr\\u003eCarbohydrates=%{y}\\u003cextra\\u003e\\u003c\\u002fextra\\u003e\",\"hovertext\":[\"Maypo\"],\"legendgroup\":\"Maypo\",\"marker\":{\"color\":\"#ab63fa\",\"symbol\":\"circle\",\"opacity\":0.6,\"size\":8},\"mode\":\"markers\",\"name\":\"Maypo\",\"orientation\":\"v\",\"showlegend\":true,\"x\":[4],\"xaxis\":\"x\",\"y\":[16.0],\"yaxis\":\"y\",\"type\":\"scatter\"},{\"hovertemplate\":\"\\u003cb\\u003e%{hovertext}\\u003c\\u002fb\\u003e\\u003cbr\\u003e\\u003cbr\\u003eCereal Name=Muesli Raisins; Dates; & Almonds\\u003cbr\\u003eProtein=%{x}\\u003cbr\\u003eCarbohydrates=%{y}\\u003cextra\\u003e\\u003c\\u002fextra\\u003e\",\"hovertext\":[\"Muesli Raisins; Dates; & Almonds\"],\"legendgroup\":\"Muesli Raisins; Dates; & Almonds\",\"marker\":{\"color\":\"#FFA15A\",\"symbol\":\"circle\",\"opacity\":0.6,\"size\":8},\"mode\":\"markers\",\"name\":\"Muesli Raisins; Dates; & Almonds\",\"orientation\":\"v\",\"showlegend\":true,\"x\":[4],\"xaxis\":\"x\",\"y\":[16.0],\"yaxis\":\"y\",\"type\":\"scatter\"},{\"hovertemplate\":\"\\u003cb\\u003e%{hovertext}\\u003c\\u002fb\\u003e\\u003cbr\\u003e\\u003cbr\\u003eCereal Name=Muesli Raisins; Peaches; & Pecans\\u003cbr\\u003eProtein=%{x}\\u003cbr\\u003eCarbohydrates=%{y}\\u003cextra\\u003e\\u003c\\u002fextra\\u003e\",\"hovertext\":[\"Muesli Raisins; Peaches; & Pecans\"],\"legendgroup\":\"Muesli Raisins; Peaches; & Pecans\",\"marker\":{\"color\":\"#19d3f3\",\"symbol\":\"circle\",\"opacity\":0.6,\"size\":8},\"mode\":\"markers\",\"name\":\"Muesli Raisins; Peaches; & Pecans\",\"orientation\":\"v\",\"showlegend\":true,\"x\":[4],\"xaxis\":\"x\",\"y\":[16.0],\"yaxis\":\"y\",\"type\":\"scatter\"},{\"hovertemplate\":\"\\u003cb\\u003e%{hovertext}\\u003c\\u002fb\\u003e\\u003cbr\\u003e\\u003cbr\\u003eCereal Name=Mueslix Crispy Blend\\u003cbr\\u003eProtein=%{x}\\u003cbr\\u003eCarbohydrates=%{y}\\u003cextra\\u003e\\u003c\\u002fextra\\u003e\",\"hovertext\":[\"Mueslix Crispy Blend\"],\"legendgroup\":\"Mueslix Crispy Blend\",\"marker\":{\"color\":\"#FF6692\",\"symbol\":\"circle\",\"opacity\":0.6,\"size\":8},\"mode\":\"markers\",\"name\":\"Mueslix Crispy Blend\",\"orientation\":\"v\",\"showlegend\":true,\"x\":[3],\"xaxis\":\"x\",\"y\":[17.0],\"yaxis\":\"y\",\"type\":\"scatter\"},{\"hovertemplate\":\"\\u003cb\\u003e%{hovertext}\\u003c\\u002fb\\u003e\\u003cbr\\u003e\\u003cbr\\u003eCereal Name=Multi-Grain Cheerios\\u003cbr\\u003eProtein=%{x}\\u003cbr\\u003eCarbohydrates=%{y}\\u003cextra\\u003e\\u003c\\u002fextra\\u003e\",\"hovertext\":[\"Multi-Grain Cheerios\"],\"legendgroup\":\"Multi-Grain Cheerios\",\"marker\":{\"color\":\"#B6E880\",\"symbol\":\"circle\",\"opacity\":0.6,\"size\":8},\"mode\":\"markers\",\"name\":\"Multi-Grain Cheerios\",\"orientation\":\"v\",\"showlegend\":true,\"x\":[2],\"xaxis\":\"x\",\"y\":[15.0],\"yaxis\":\"y\",\"type\":\"scatter\"},{\"hovertemplate\":\"\\u003cb\\u003e%{hovertext}\\u003c\\u002fb\\u003e\\u003cbr\\u003e\\u003cbr\\u003eCereal Name=Nut&Honey Crunch\\u003cbr\\u003eProtein=%{x}\\u003cbr\\u003eCarbohydrates=%{y}\\u003cextra\\u003e\\u003c\\u002fextra\\u003e\",\"hovertext\":[\"Nut&Honey Crunch\"],\"legendgroup\":\"Nut&Honey Crunch\",\"marker\":{\"color\":\"#FF97FF\",\"symbol\":\"circle\",\"opacity\":0.6,\"size\":8},\"mode\":\"markers\",\"name\":\"Nut&Honey Crunch\",\"orientation\":\"v\",\"showlegend\":true,\"x\":[2],\"xaxis\":\"x\",\"y\":[15.0],\"yaxis\":\"y\",\"type\":\"scatter\"},{\"hovertemplate\":\"\\u003cb\\u003e%{hovertext}\\u003c\\u002fb\\u003e\\u003cbr\\u003e\\u003cbr\\u003eCereal Name=Nutri-Grain Almond-Raisin\\u003cbr\\u003eProtein=%{x}\\u003cbr\\u003eCarbohydrates=%{y}\\u003cextra\\u003e\\u003c\\u002fextra\\u003e\",\"hovertext\":[\"Nutri-Grain Almond-Raisin\"],\"legendgroup\":\"Nutri-Grain Almond-Raisin\",\"marker\":{\"color\":\"#FECB52\",\"symbol\":\"circle\",\"opacity\":0.6,\"size\":8},\"mode\":\"markers\",\"name\":\"Nutri-Grain Almond-Raisin\",\"orientation\":\"v\",\"showlegend\":true,\"x\":[3],\"xaxis\":\"x\",\"y\":[21.0],\"yaxis\":\"y\",\"type\":\"scatter\"},{\"hovertemplate\":\"\\u003cb\\u003e%{hovertext}\\u003c\\u002fb\\u003e\\u003cbr\\u003e\\u003cbr\\u003eCereal Name=Nutri-grain Wheat\\u003cbr\\u003eProtein=%{x}\\u003cbr\\u003eCarbohydrates=%{y}\\u003cextra\\u003e\\u003c\\u002fextra\\u003e\",\"hovertext\":[\"Nutri-grain Wheat\"],\"legendgroup\":\"Nutri-grain Wheat\",\"marker\":{\"color\":\"#636efa\",\"symbol\":\"circle\",\"opacity\":0.6,\"size\":8},\"mode\":\"markers\",\"name\":\"Nutri-grain Wheat\",\"orientation\":\"v\",\"showlegend\":true,\"x\":[3],\"xaxis\":\"x\",\"y\":[18.0],\"yaxis\":\"y\",\"type\":\"scatter\"},{\"hovertemplate\":\"\\u003cb\\u003e%{hovertext}\\u003c\\u002fb\\u003e\\u003cbr\\u003e\\u003cbr\\u003eCereal Name=Oatmeal Raisin Crisp\\u003cbr\\u003eProtein=%{x}\\u003cbr\\u003eCarbohydrates=%{y}\\u003cextra\\u003e\\u003c\\u002fextra\\u003e\",\"hovertext\":[\"Oatmeal Raisin Crisp\"],\"legendgroup\":\"Oatmeal Raisin Crisp\",\"marker\":{\"color\":\"#EF553B\",\"symbol\":\"circle\",\"opacity\":0.6,\"size\":8},\"mode\":\"markers\",\"name\":\"Oatmeal Raisin Crisp\",\"orientation\":\"v\",\"showlegend\":true,\"x\":[3],\"xaxis\":\"x\",\"y\":[13.5],\"yaxis\":\"y\",\"type\":\"scatter\"},{\"hovertemplate\":\"\\u003cb\\u003e%{hovertext}\\u003c\\u002fb\\u003e\\u003cbr\\u003e\\u003cbr\\u003eCereal Name=Post Nat. Raisin Bran\\u003cbr\\u003eProtein=%{x}\\u003cbr\\u003eCarbohydrates=%{y}\\u003cextra\\u003e\\u003c\\u002fextra\\u003e\",\"hovertext\":[\"Post Nat. Raisin Bran\"],\"legendgroup\":\"Post Nat. Raisin Bran\",\"marker\":{\"color\":\"#00cc96\",\"symbol\":\"circle\",\"opacity\":0.6,\"size\":8},\"mode\":\"markers\",\"name\":\"Post Nat. Raisin Bran\",\"orientation\":\"v\",\"showlegend\":true,\"x\":[3],\"xaxis\":\"x\",\"y\":[11.0],\"yaxis\":\"y\",\"type\":\"scatter\"},{\"hovertemplate\":\"\\u003cb\\u003e%{hovertext}\\u003c\\u002fb\\u003e\\u003cbr\\u003e\\u003cbr\\u003eCereal Name=Product 19\\u003cbr\\u003eProtein=%{x}\\u003cbr\\u003eCarbohydrates=%{y}\\u003cextra\\u003e\\u003c\\u002fextra\\u003e\",\"hovertext\":[\"Product 19\"],\"legendgroup\":\"Product 19\",\"marker\":{\"color\":\"#ab63fa\",\"symbol\":\"circle\",\"opacity\":0.6,\"size\":8},\"mode\":\"markers\",\"name\":\"Product 19\",\"orientation\":\"v\",\"showlegend\":true,\"x\":[3],\"xaxis\":\"x\",\"y\":[20.0],\"yaxis\":\"y\",\"type\":\"scatter\"},{\"hovertemplate\":\"\\u003cb\\u003e%{hovertext}\\u003c\\u002fb\\u003e\\u003cbr\\u003e\\u003cbr\\u003eCereal Name=Puffed Rice\\u003cbr\\u003eProtein=%{x}\\u003cbr\\u003eCarbohydrates=%{y}\\u003cextra\\u003e\\u003c\\u002fextra\\u003e\",\"hovertext\":[\"Puffed Rice\"],\"legendgroup\":\"Puffed Rice\",\"marker\":{\"color\":\"#FFA15A\",\"symbol\":\"circle\",\"opacity\":0.6,\"size\":8},\"mode\":\"markers\",\"name\":\"Puffed Rice\",\"orientation\":\"v\",\"showlegend\":true,\"x\":[1],\"xaxis\":\"x\",\"y\":[13.0],\"yaxis\":\"y\",\"type\":\"scatter\"},{\"hovertemplate\":\"\\u003cb\\u003e%{hovertext}\\u003c\\u002fb\\u003e\\u003cbr\\u003e\\u003cbr\\u003eCereal Name=Puffed Wheat\\u003cbr\\u003eProtein=%{x}\\u003cbr\\u003eCarbohydrates=%{y}\\u003cextra\\u003e\\u003c\\u002fextra\\u003e\",\"hovertext\":[\"Puffed Wheat\"],\"legendgroup\":\"Puffed Wheat\",\"marker\":{\"color\":\"#19d3f3\",\"symbol\":\"circle\",\"opacity\":0.6,\"size\":8},\"mode\":\"markers\",\"name\":\"Puffed Wheat\",\"orientation\":\"v\",\"showlegend\":true,\"x\":[2],\"xaxis\":\"x\",\"y\":[10.0],\"yaxis\":\"y\",\"type\":\"scatter\"},{\"hovertemplate\":\"\\u003cb\\u003e%{hovertext}\\u003c\\u002fb\\u003e\\u003cbr\\u003e\\u003cbr\\u003eCereal Name=Quaker Oat Squares\\u003cbr\\u003eProtein=%{x}\\u003cbr\\u003eCarbohydrates=%{y}\\u003cextra\\u003e\\u003c\\u002fextra\\u003e\",\"hovertext\":[\"Quaker Oat Squares\"],\"legendgroup\":\"Quaker Oat Squares\",\"marker\":{\"color\":\"#FF6692\",\"symbol\":\"circle\",\"opacity\":0.6,\"size\":8},\"mode\":\"markers\",\"name\":\"Quaker Oat Squares\",\"orientation\":\"v\",\"showlegend\":true,\"x\":[4],\"xaxis\":\"x\",\"y\":[14.0],\"yaxis\":\"y\",\"type\":\"scatter\"},{\"hovertemplate\":\"\\u003cb\\u003e%{hovertext}\\u003c\\u002fb\\u003e\\u003cbr\\u003e\\u003cbr\\u003eCereal Name=Quaker Oatmeal\\u003cbr\\u003eProtein=%{x}\\u003cbr\\u003eCarbohydrates=%{y}\\u003cextra\\u003e\\u003c\\u002fextra\\u003e\",\"hovertext\":[\"Quaker Oatmeal\"],\"legendgroup\":\"Quaker Oatmeal\",\"marker\":{\"color\":\"#B6E880\",\"symbol\":\"circle\",\"opacity\":0.6,\"size\":8},\"mode\":\"markers\",\"name\":\"Quaker Oatmeal\",\"orientation\":\"v\",\"showlegend\":true,\"x\":[5],\"xaxis\":\"x\",\"y\":[-1.0],\"yaxis\":\"y\",\"type\":\"scatter\"},{\"hovertemplate\":\"\\u003cb\\u003e%{hovertext}\\u003c\\u002fb\\u003e\\u003cbr\\u003e\\u003cbr\\u003eCereal Name=Raisin Bran\\u003cbr\\u003eProtein=%{x}\\u003cbr\\u003eCarbohydrates=%{y}\\u003cextra\\u003e\\u003c\\u002fextra\\u003e\",\"hovertext\":[\"Raisin Bran\"],\"legendgroup\":\"Raisin Bran\",\"marker\":{\"color\":\"#FF97FF\",\"symbol\":\"circle\",\"opacity\":0.6,\"size\":8},\"mode\":\"markers\",\"name\":\"Raisin Bran\",\"orientation\":\"v\",\"showlegend\":true,\"x\":[3],\"xaxis\":\"x\",\"y\":[14.0],\"yaxis\":\"y\",\"type\":\"scatter\"},{\"hovertemplate\":\"\\u003cb\\u003e%{hovertext}\\u003c\\u002fb\\u003e\\u003cbr\\u003e\\u003cbr\\u003eCereal Name=Raisin Nut Bran\\u003cbr\\u003eProtein=%{x}\\u003cbr\\u003eCarbohydrates=%{y}\\u003cextra\\u003e\\u003c\\u002fextra\\u003e\",\"hovertext\":[\"Raisin Nut Bran\"],\"legendgroup\":\"Raisin Nut Bran\",\"marker\":{\"color\":\"#FECB52\",\"symbol\":\"circle\",\"opacity\":0.6,\"size\":8},\"mode\":\"markers\",\"name\":\"Raisin Nut Bran\",\"orientation\":\"v\",\"showlegend\":true,\"x\":[3],\"xaxis\":\"x\",\"y\":[10.5],\"yaxis\":\"y\",\"type\":\"scatter\"},{\"hovertemplate\":\"\\u003cb\\u003e%{hovertext}\\u003c\\u002fb\\u003e\\u003cbr\\u003e\\u003cbr\\u003eCereal Name=Raisin Squares\\u003cbr\\u003eProtein=%{x}\\u003cbr\\u003eCarbohydrates=%{y}\\u003cextra\\u003e\\u003c\\u002fextra\\u003e\",\"hovertext\":[\"Raisin Squares\"],\"legendgroup\":\"Raisin Squares\",\"marker\":{\"color\":\"#636efa\",\"symbol\":\"circle\",\"opacity\":0.6,\"size\":8},\"mode\":\"markers\",\"name\":\"Raisin Squares\",\"orientation\":\"v\",\"showlegend\":true,\"x\":[2],\"xaxis\":\"x\",\"y\":[15.0],\"yaxis\":\"y\",\"type\":\"scatter\"},{\"hovertemplate\":\"\\u003cb\\u003e%{hovertext}\\u003c\\u002fb\\u003e\\u003cbr\\u003e\\u003cbr\\u003eCereal Name=Rice Chex\\u003cbr\\u003eProtein=%{x}\\u003cbr\\u003eCarbohydrates=%{y}\\u003cextra\\u003e\\u003c\\u002fextra\\u003e\",\"hovertext\":[\"Rice Chex\"],\"legendgroup\":\"Rice Chex\",\"marker\":{\"color\":\"#EF553B\",\"symbol\":\"circle\",\"opacity\":0.6,\"size\":8},\"mode\":\"markers\",\"name\":\"Rice Chex\",\"orientation\":\"v\",\"showlegend\":true,\"x\":[1],\"xaxis\":\"x\",\"y\":[23.0],\"yaxis\":\"y\",\"type\":\"scatter\"},{\"hovertemplate\":\"\\u003cb\\u003e%{hovertext}\\u003c\\u002fb\\u003e\\u003cbr\\u003e\\u003cbr\\u003eCereal Name=Rice Krispies\\u003cbr\\u003eProtein=%{x}\\u003cbr\\u003eCarbohydrates=%{y}\\u003cextra\\u003e\\u003c\\u002fextra\\u003e\",\"hovertext\":[\"Rice Krispies\"],\"legendgroup\":\"Rice Krispies\",\"marker\":{\"color\":\"#00cc96\",\"symbol\":\"circle\",\"opacity\":0.6,\"size\":8},\"mode\":\"markers\",\"name\":\"Rice Krispies\",\"orientation\":\"v\",\"showlegend\":true,\"x\":[2],\"xaxis\":\"x\",\"y\":[22.0],\"yaxis\":\"y\",\"type\":\"scatter\"},{\"hovertemplate\":\"\\u003cb\\u003e%{hovertext}\\u003c\\u002fb\\u003e\\u003cbr\\u003e\\u003cbr\\u003eCereal Name=Shredded Wheat\\u003cbr\\u003eProtein=%{x}\\u003cbr\\u003eCarbohydrates=%{y}\\u003cextra\\u003e\\u003c\\u002fextra\\u003e\",\"hovertext\":[\"Shredded Wheat\"],\"legendgroup\":\"Shredded Wheat\",\"marker\":{\"color\":\"#ab63fa\",\"symbol\":\"circle\",\"opacity\":0.6,\"size\":8},\"mode\":\"markers\",\"name\":\"Shredded Wheat\",\"orientation\":\"v\",\"showlegend\":true,\"x\":[2],\"xaxis\":\"x\",\"y\":[16.0],\"yaxis\":\"y\",\"type\":\"scatter\"},{\"hovertemplate\":\"\\u003cb\\u003e%{hovertext}\\u003c\\u002fb\\u003e\\u003cbr\\u003e\\u003cbr\\u003eCereal Name=Shredded Wheat 'n'Bran\\u003cbr\\u003eProtein=%{x}\\u003cbr\\u003eCarbohydrates=%{y}\\u003cextra\\u003e\\u003c\\u002fextra\\u003e\",\"hovertext\":[\"Shredded Wheat 'n'Bran\"],\"legendgroup\":\"Shredded Wheat 'n'Bran\",\"marker\":{\"color\":\"#FFA15A\",\"symbol\":\"circle\",\"opacity\":0.6,\"size\":8},\"mode\":\"markers\",\"name\":\"Shredded Wheat 'n'Bran\",\"orientation\":\"v\",\"showlegend\":true,\"x\":[3],\"xaxis\":\"x\",\"y\":[19.0],\"yaxis\":\"y\",\"type\":\"scatter\"},{\"hovertemplate\":\"\\u003cb\\u003e%{hovertext}\\u003c\\u002fb\\u003e\\u003cbr\\u003e\\u003cbr\\u003eCereal Name=Shredded Wheat spoon size\\u003cbr\\u003eProtein=%{x}\\u003cbr\\u003eCarbohydrates=%{y}\\u003cextra\\u003e\\u003c\\u002fextra\\u003e\",\"hovertext\":[\"Shredded Wheat spoon size\"],\"legendgroup\":\"Shredded Wheat spoon size\",\"marker\":{\"color\":\"#19d3f3\",\"symbol\":\"circle\",\"opacity\":0.6,\"size\":8},\"mode\":\"markers\",\"name\":\"Shredded Wheat spoon size\",\"orientation\":\"v\",\"showlegend\":true,\"x\":[3],\"xaxis\":\"x\",\"y\":[20.0],\"yaxis\":\"y\",\"type\":\"scatter\"},{\"hovertemplate\":\"\\u003cb\\u003e%{hovertext}\\u003c\\u002fb\\u003e\\u003cbr\\u003e\\u003cbr\\u003eCereal Name=Smacks\\u003cbr\\u003eProtein=%{x}\\u003cbr\\u003eCarbohydrates=%{y}\\u003cextra\\u003e\\u003c\\u002fextra\\u003e\",\"hovertext\":[\"Smacks\"],\"legendgroup\":\"Smacks\",\"marker\":{\"color\":\"#FF6692\",\"symbol\":\"circle\",\"opacity\":0.6,\"size\":8},\"mode\":\"markers\",\"name\":\"Smacks\",\"orientation\":\"v\",\"showlegend\":true,\"x\":[2],\"xaxis\":\"x\",\"y\":[9.0],\"yaxis\":\"y\",\"type\":\"scatter\"},{\"hovertemplate\":\"\\u003cb\\u003e%{hovertext}\\u003c\\u002fb\\u003e\\u003cbr\\u003e\\u003cbr\\u003eCereal Name=Special K\\u003cbr\\u003eProtein=%{x}\\u003cbr\\u003eCarbohydrates=%{y}\\u003cextra\\u003e\\u003c\\u002fextra\\u003e\",\"hovertext\":[\"Special K\"],\"legendgroup\":\"Special K\",\"marker\":{\"color\":\"#B6E880\",\"symbol\":\"circle\",\"opacity\":0.6,\"size\":8},\"mode\":\"markers\",\"name\":\"Special K\",\"orientation\":\"v\",\"showlegend\":true,\"x\":[6],\"xaxis\":\"x\",\"y\":[16.0],\"yaxis\":\"y\",\"type\":\"scatter\"},{\"hovertemplate\":\"\\u003cb\\u003e%{hovertext}\\u003c\\u002fb\\u003e\\u003cbr\\u003e\\u003cbr\\u003eCereal Name=Strawberry Fruit Wheats\\u003cbr\\u003eProtein=%{x}\\u003cbr\\u003eCarbohydrates=%{y}\\u003cextra\\u003e\\u003c\\u002fextra\\u003e\",\"hovertext\":[\"Strawberry Fruit Wheats\"],\"legendgroup\":\"Strawberry Fruit Wheats\",\"marker\":{\"color\":\"#FF97FF\",\"symbol\":\"circle\",\"opacity\":0.6,\"size\":8},\"mode\":\"markers\",\"name\":\"Strawberry Fruit Wheats\",\"orientation\":\"v\",\"showlegend\":true,\"x\":[2],\"xaxis\":\"x\",\"y\":[15.0],\"yaxis\":\"y\",\"type\":\"scatter\"},{\"hovertemplate\":\"\\u003cb\\u003e%{hovertext}\\u003c\\u002fb\\u003e\\u003cbr\\u003e\\u003cbr\\u003eCereal Name=Total Corn Flakes\\u003cbr\\u003eProtein=%{x}\\u003cbr\\u003eCarbohydrates=%{y}\\u003cextra\\u003e\\u003c\\u002fextra\\u003e\",\"hovertext\":[\"Total Corn Flakes\"],\"legendgroup\":\"Total Corn Flakes\",\"marker\":{\"color\":\"#FECB52\",\"symbol\":\"circle\",\"opacity\":0.6,\"size\":8},\"mode\":\"markers\",\"name\":\"Total Corn Flakes\",\"orientation\":\"v\",\"showlegend\":true,\"x\":[2],\"xaxis\":\"x\",\"y\":[21.0],\"yaxis\":\"y\",\"type\":\"scatter\"},{\"hovertemplate\":\"\\u003cb\\u003e%{hovertext}\\u003c\\u002fb\\u003e\\u003cbr\\u003e\\u003cbr\\u003eCereal Name=Total Raisin Bran\\u003cbr\\u003eProtein=%{x}\\u003cbr\\u003eCarbohydrates=%{y}\\u003cextra\\u003e\\u003c\\u002fextra\\u003e\",\"hovertext\":[\"Total Raisin Bran\"],\"legendgroup\":\"Total Raisin Bran\",\"marker\":{\"color\":\"#636efa\",\"symbol\":\"circle\",\"opacity\":0.6,\"size\":8},\"mode\":\"markers\",\"name\":\"Total Raisin Bran\",\"orientation\":\"v\",\"showlegend\":true,\"x\":[3],\"xaxis\":\"x\",\"y\":[15.0],\"yaxis\":\"y\",\"type\":\"scatter\"},{\"hovertemplate\":\"\\u003cb\\u003e%{hovertext}\\u003c\\u002fb\\u003e\\u003cbr\\u003e\\u003cbr\\u003eCereal Name=Total Whole Grain\\u003cbr\\u003eProtein=%{x}\\u003cbr\\u003eCarbohydrates=%{y}\\u003cextra\\u003e\\u003c\\u002fextra\\u003e\",\"hovertext\":[\"Total Whole Grain\"],\"legendgroup\":\"Total Whole Grain\",\"marker\":{\"color\":\"#EF553B\",\"symbol\":\"circle\",\"opacity\":0.6,\"size\":8},\"mode\":\"markers\",\"name\":\"Total Whole Grain\",\"orientation\":\"v\",\"showlegend\":true,\"x\":[3],\"xaxis\":\"x\",\"y\":[16.0],\"yaxis\":\"y\",\"type\":\"scatter\"},{\"hovertemplate\":\"\\u003cb\\u003e%{hovertext}\\u003c\\u002fb\\u003e\\u003cbr\\u003e\\u003cbr\\u003eCereal Name=Triples\\u003cbr\\u003eProtein=%{x}\\u003cbr\\u003eCarbohydrates=%{y}\\u003cextra\\u003e\\u003c\\u002fextra\\u003e\",\"hovertext\":[\"Triples\"],\"legendgroup\":\"Triples\",\"marker\":{\"color\":\"#00cc96\",\"symbol\":\"circle\",\"opacity\":0.6,\"size\":8},\"mode\":\"markers\",\"name\":\"Triples\",\"orientation\":\"v\",\"showlegend\":true,\"x\":[2],\"xaxis\":\"x\",\"y\":[21.0],\"yaxis\":\"y\",\"type\":\"scatter\"},{\"hovertemplate\":\"\\u003cb\\u003e%{hovertext}\\u003c\\u002fb\\u003e\\u003cbr\\u003e\\u003cbr\\u003eCereal Name=Trix\\u003cbr\\u003eProtein=%{x}\\u003cbr\\u003eCarbohydrates=%{y}\\u003cextra\\u003e\\u003c\\u002fextra\\u003e\",\"hovertext\":[\"Trix\"],\"legendgroup\":\"Trix\",\"marker\":{\"color\":\"#ab63fa\",\"symbol\":\"circle\",\"opacity\":0.6,\"size\":8},\"mode\":\"markers\",\"name\":\"Trix\",\"orientation\":\"v\",\"showlegend\":true,\"x\":[1],\"xaxis\":\"x\",\"y\":[13.0],\"yaxis\":\"y\",\"type\":\"scatter\"},{\"hovertemplate\":\"\\u003cb\\u003e%{hovertext}\\u003c\\u002fb\\u003e\\u003cbr\\u003e\\u003cbr\\u003eCereal Name=Wheat Chex\\u003cbr\\u003eProtein=%{x}\\u003cbr\\u003eCarbohydrates=%{y}\\u003cextra\\u003e\\u003c\\u002fextra\\u003e\",\"hovertext\":[\"Wheat Chex\"],\"legendgroup\":\"Wheat Chex\",\"marker\":{\"color\":\"#FFA15A\",\"symbol\":\"circle\",\"opacity\":0.6,\"size\":8},\"mode\":\"markers\",\"name\":\"Wheat Chex\",\"orientation\":\"v\",\"showlegend\":true,\"x\":[3],\"xaxis\":\"x\",\"y\":[17.0],\"yaxis\":\"y\",\"type\":\"scatter\"},{\"hovertemplate\":\"\\u003cb\\u003e%{hovertext}\\u003c\\u002fb\\u003e\\u003cbr\\u003e\\u003cbr\\u003eCereal Name=Wheaties\\u003cbr\\u003eProtein=%{x}\\u003cbr\\u003eCarbohydrates=%{y}\\u003cextra\\u003e\\u003c\\u002fextra\\u003e\",\"hovertext\":[\"Wheaties\"],\"legendgroup\":\"Wheaties\",\"marker\":{\"color\":\"#19d3f3\",\"symbol\":\"circle\",\"opacity\":0.6,\"size\":8},\"mode\":\"markers\",\"name\":\"Wheaties\",\"orientation\":\"v\",\"showlegend\":true,\"x\":[3],\"xaxis\":\"x\",\"y\":[17.0],\"yaxis\":\"y\",\"type\":\"scatter\"},{\"hovertemplate\":\"\\u003cb\\u003e%{hovertext}\\u003c\\u002fb\\u003e\\u003cbr\\u003e\\u003cbr\\u003eCereal Name=Wheaties Honey Gold\\u003cbr\\u003eProtein=%{x}\\u003cbr\\u003eCarbohydrates=%{y}\\u003cextra\\u003e\\u003c\\u002fextra\\u003e\",\"hovertext\":[\"Wheaties Honey Gold\"],\"legendgroup\":\"Wheaties Honey Gold\",\"marker\":{\"color\":\"#FF6692\",\"symbol\":\"circle\",\"opacity\":0.6,\"size\":8},\"mode\":\"markers\",\"name\":\"Wheaties Honey Gold\",\"orientation\":\"v\",\"showlegend\":true,\"x\":[2],\"xaxis\":\"x\",\"y\":[16.0],\"yaxis\":\"y\",\"type\":\"scatter\"}],                        {\"template\":{\"data\":{\"barpolar\":[{\"marker\":{\"line\":{\"color\":\"white\",\"width\":0.5},\"pattern\":{\"fillmode\":\"overlay\",\"size\":10,\"solidity\":0.2}},\"type\":\"barpolar\"}],\"bar\":[{\"error_x\":{\"color\":\"#2a3f5f\"},\"error_y\":{\"color\":\"#2a3f5f\"},\"marker\":{\"line\":{\"color\":\"white\",\"width\":0.5},\"pattern\":{\"fillmode\":\"overlay\",\"size\":10,\"solidity\":0.2}},\"type\":\"bar\"}],\"carpet\":[{\"aaxis\":{\"endlinecolor\":\"#2a3f5f\",\"gridcolor\":\"#C8D4E3\",\"linecolor\":\"#C8D4E3\",\"minorgridcolor\":\"#C8D4E3\",\"startlinecolor\":\"#2a3f5f\"},\"baxis\":{\"endlinecolor\":\"#2a3f5f\",\"gridcolor\":\"#C8D4E3\",\"linecolor\":\"#C8D4E3\",\"minorgridcolor\":\"#C8D4E3\",\"startlinecolor\":\"#2a3f5f\"},\"type\":\"carpet\"}],\"choropleth\":[{\"colorbar\":{\"outlinewidth\":0,\"ticks\":\"\"},\"type\":\"choropleth\"}],\"contourcarpet\":[{\"colorbar\":{\"outlinewidth\":0,\"ticks\":\"\"},\"type\":\"contourcarpet\"}],\"contour\":[{\"colorbar\":{\"outlinewidth\":0,\"ticks\":\"\"},\"colorscale\":[[0.0,\"#0d0887\"],[0.1111111111111111,\"#46039f\"],[0.2222222222222222,\"#7201a8\"],[0.3333333333333333,\"#9c179e\"],[0.4444444444444444,\"#bd3786\"],[0.5555555555555556,\"#d8576b\"],[0.6666666666666666,\"#ed7953\"],[0.7777777777777778,\"#fb9f3a\"],[0.8888888888888888,\"#fdca26\"],[1.0,\"#f0f921\"]],\"type\":\"contour\"}],\"heatmapgl\":[{\"colorbar\":{\"outlinewidth\":0,\"ticks\":\"\"},\"colorscale\":[[0.0,\"#0d0887\"],[0.1111111111111111,\"#46039f\"],[0.2222222222222222,\"#7201a8\"],[0.3333333333333333,\"#9c179e\"],[0.4444444444444444,\"#bd3786\"],[0.5555555555555556,\"#d8576b\"],[0.6666666666666666,\"#ed7953\"],[0.7777777777777778,\"#fb9f3a\"],[0.8888888888888888,\"#fdca26\"],[1.0,\"#f0f921\"]],\"type\":\"heatmapgl\"}],\"heatmap\":[{\"colorbar\":{\"outlinewidth\":0,\"ticks\":\"\"},\"colorscale\":[[0.0,\"#0d0887\"],[0.1111111111111111,\"#46039f\"],[0.2222222222222222,\"#7201a8\"],[0.3333333333333333,\"#9c179e\"],[0.4444444444444444,\"#bd3786\"],[0.5555555555555556,\"#d8576b\"],[0.6666666666666666,\"#ed7953\"],[0.7777777777777778,\"#fb9f3a\"],[0.8888888888888888,\"#fdca26\"],[1.0,\"#f0f921\"]],\"type\":\"heatmap\"}],\"histogram2dcontour\":[{\"colorbar\":{\"outlinewidth\":0,\"ticks\":\"\"},\"colorscale\":[[0.0,\"#0d0887\"],[0.1111111111111111,\"#46039f\"],[0.2222222222222222,\"#7201a8\"],[0.3333333333333333,\"#9c179e\"],[0.4444444444444444,\"#bd3786\"],[0.5555555555555556,\"#d8576b\"],[0.6666666666666666,\"#ed7953\"],[0.7777777777777778,\"#fb9f3a\"],[0.8888888888888888,\"#fdca26\"],[1.0,\"#f0f921\"]],\"type\":\"histogram2dcontour\"}],\"histogram2d\":[{\"colorbar\":{\"outlinewidth\":0,\"ticks\":\"\"},\"colorscale\":[[0.0,\"#0d0887\"],[0.1111111111111111,\"#46039f\"],[0.2222222222222222,\"#7201a8\"],[0.3333333333333333,\"#9c179e\"],[0.4444444444444444,\"#bd3786\"],[0.5555555555555556,\"#d8576b\"],[0.6666666666666666,\"#ed7953\"],[0.7777777777777778,\"#fb9f3a\"],[0.8888888888888888,\"#fdca26\"],[1.0,\"#f0f921\"]],\"type\":\"histogram2d\"}],\"histogram\":[{\"marker\":{\"pattern\":{\"fillmode\":\"overlay\",\"size\":10,\"solidity\":0.2}},\"type\":\"histogram\"}],\"mesh3d\":[{\"colorbar\":{\"outlinewidth\":0,\"ticks\":\"\"},\"type\":\"mesh3d\"}],\"parcoords\":[{\"line\":{\"colorbar\":{\"outlinewidth\":0,\"ticks\":\"\"}},\"type\":\"parcoords\"}],\"pie\":[{\"automargin\":true,\"type\":\"pie\"}],\"scatter3d\":[{\"line\":{\"colorbar\":{\"outlinewidth\":0,\"ticks\":\"\"}},\"marker\":{\"colorbar\":{\"outlinewidth\":0,\"ticks\":\"\"}},\"type\":\"scatter3d\"}],\"scattercarpet\":[{\"marker\":{\"colorbar\":{\"outlinewidth\":0,\"ticks\":\"\"}},\"type\":\"scattercarpet\"}],\"scattergeo\":[{\"marker\":{\"colorbar\":{\"outlinewidth\":0,\"ticks\":\"\"}},\"type\":\"scattergeo\"}],\"scattergl\":[{\"marker\":{\"colorbar\":{\"outlinewidth\":0,\"ticks\":\"\"}},\"type\":\"scattergl\"}],\"scattermapbox\":[{\"marker\":{\"colorbar\":{\"outlinewidth\":0,\"ticks\":\"\"}},\"type\":\"scattermapbox\"}],\"scatterpolargl\":[{\"marker\":{\"colorbar\":{\"outlinewidth\":0,\"ticks\":\"\"}},\"type\":\"scatterpolargl\"}],\"scatterpolar\":[{\"marker\":{\"colorbar\":{\"outlinewidth\":0,\"ticks\":\"\"}},\"type\":\"scatterpolar\"}],\"scatter\":[{\"fillpattern\":{\"fillmode\":\"overlay\",\"size\":10,\"solidity\":0.2},\"type\":\"scatter\"}],\"scatterternary\":[{\"marker\":{\"colorbar\":{\"outlinewidth\":0,\"ticks\":\"\"}},\"type\":\"scatterternary\"}],\"surface\":[{\"colorbar\":{\"outlinewidth\":0,\"ticks\":\"\"},\"colorscale\":[[0.0,\"#0d0887\"],[0.1111111111111111,\"#46039f\"],[0.2222222222222222,\"#7201a8\"],[0.3333333333333333,\"#9c179e\"],[0.4444444444444444,\"#bd3786\"],[0.5555555555555556,\"#d8576b\"],[0.6666666666666666,\"#ed7953\"],[0.7777777777777778,\"#fb9f3a\"],[0.8888888888888888,\"#fdca26\"],[1.0,\"#f0f921\"]],\"type\":\"surface\"}],\"table\":[{\"cells\":{\"fill\":{\"color\":\"#EBF0F8\"},\"line\":{\"color\":\"white\"}},\"header\":{\"fill\":{\"color\":\"#C8D4E3\"},\"line\":{\"color\":\"white\"}},\"type\":\"table\"}]},\"layout\":{\"annotationdefaults\":{\"arrowcolor\":\"#2a3f5f\",\"arrowhead\":0,\"arrowwidth\":1},\"autotypenumbers\":\"strict\",\"coloraxis\":{\"colorbar\":{\"outlinewidth\":0,\"ticks\":\"\"}},\"colorscale\":{\"diverging\":[[0,\"#8e0152\"],[0.1,\"#c51b7d\"],[0.2,\"#de77ae\"],[0.3,\"#f1b6da\"],[0.4,\"#fde0ef\"],[0.5,\"#f7f7f7\"],[0.6,\"#e6f5d0\"],[0.7,\"#b8e186\"],[0.8,\"#7fbc41\"],[0.9,\"#4d9221\"],[1,\"#276419\"]],\"sequential\":[[0.0,\"#0d0887\"],[0.1111111111111111,\"#46039f\"],[0.2222222222222222,\"#7201a8\"],[0.3333333333333333,\"#9c179e\"],[0.4444444444444444,\"#bd3786\"],[0.5555555555555556,\"#d8576b\"],[0.6666666666666666,\"#ed7953\"],[0.7777777777777778,\"#fb9f3a\"],[0.8888888888888888,\"#fdca26\"],[1.0,\"#f0f921\"]],\"sequentialminus\":[[0.0,\"#0d0887\"],[0.1111111111111111,\"#46039f\"],[0.2222222222222222,\"#7201a8\"],[0.3333333333333333,\"#9c179e\"],[0.4444444444444444,\"#bd3786\"],[0.5555555555555556,\"#d8576b\"],[0.6666666666666666,\"#ed7953\"],[0.7777777777777778,\"#fb9f3a\"],[0.8888888888888888,\"#fdca26\"],[1.0,\"#f0f921\"]]},\"colorway\":[\"#636efa\",\"#EF553B\",\"#00cc96\",\"#ab63fa\",\"#FFA15A\",\"#19d3f3\",\"#FF6692\",\"#B6E880\",\"#FF97FF\",\"#FECB52\"],\"font\":{\"color\":\"#2a3f5f\"},\"geo\":{\"bgcolor\":\"white\",\"lakecolor\":\"white\",\"landcolor\":\"white\",\"showlakes\":true,\"showland\":true,\"subunitcolor\":\"#C8D4E3\"},\"hoverlabel\":{\"align\":\"left\"},\"hovermode\":\"closest\",\"mapbox\":{\"style\":\"light\"},\"paper_bgcolor\":\"white\",\"plot_bgcolor\":\"white\",\"polar\":{\"angularaxis\":{\"gridcolor\":\"#EBF0F8\",\"linecolor\":\"#EBF0F8\",\"ticks\":\"\"},\"bgcolor\":\"white\",\"radialaxis\":{\"gridcolor\":\"#EBF0F8\",\"linecolor\":\"#EBF0F8\",\"ticks\":\"\"}},\"scene\":{\"xaxis\":{\"backgroundcolor\":\"white\",\"gridcolor\":\"#DFE8F3\",\"gridwidth\":2,\"linecolor\":\"#EBF0F8\",\"showbackground\":true,\"ticks\":\"\",\"zerolinecolor\":\"#EBF0F8\"},\"yaxis\":{\"backgroundcolor\":\"white\",\"gridcolor\":\"#DFE8F3\",\"gridwidth\":2,\"linecolor\":\"#EBF0F8\",\"showbackground\":true,\"ticks\":\"\",\"zerolinecolor\":\"#EBF0F8\"},\"zaxis\":{\"backgroundcolor\":\"white\",\"gridcolor\":\"#DFE8F3\",\"gridwidth\":2,\"linecolor\":\"#EBF0F8\",\"showbackground\":true,\"ticks\":\"\",\"zerolinecolor\":\"#EBF0F8\"}},\"shapedefaults\":{\"line\":{\"color\":\"#2a3f5f\"}},\"ternary\":{\"aaxis\":{\"gridcolor\":\"#DFE8F3\",\"linecolor\":\"#A2B1C6\",\"ticks\":\"\"},\"baxis\":{\"gridcolor\":\"#DFE8F3\",\"linecolor\":\"#A2B1C6\",\"ticks\":\"\"},\"bgcolor\":\"white\",\"caxis\":{\"gridcolor\":\"#DFE8F3\",\"linecolor\":\"#A2B1C6\",\"ticks\":\"\"}},\"title\":{\"x\":0.05},\"xaxis\":{\"automargin\":true,\"gridcolor\":\"#EBF0F8\",\"linecolor\":\"#EBF0F8\",\"ticks\":\"\",\"title\":{\"standoff\":15},\"zerolinecolor\":\"#EBF0F8\",\"zerolinewidth\":2},\"yaxis\":{\"automargin\":true,\"gridcolor\":\"#EBF0F8\",\"linecolor\":\"#EBF0F8\",\"ticks\":\"\",\"title\":{\"standoff\":15},\"zerolinecolor\":\"#EBF0F8\",\"zerolinewidth\":2}}},\"xaxis\":{\"anchor\":\"y\",\"domain\":[0.0,1.0],\"title\":{\"text\":\"Protein\"}},\"yaxis\":{\"anchor\":\"x\",\"domain\":[0.0,1.0],\"title\":{\"text\":\"Carbohydrates\"}},\"legend\":{\"title\":{\"text\":\"Cereal Name\"},\"tracegroupgap\":0},\"title\":{\"text\":\"Cereal Nutrition: Protein versus Carbohydrates\"}},                        {\"responsive\": true}                    ).then(function(){\n",
       "                            \n",
       "var gd = document.getElementById('f7c02906-bbfd-4b84-82d4-9d81d0b879af');\n",
       "var x = new MutationObserver(function (mutations, observer) {{\n",
       "        var display = window.getComputedStyle(gd).display;\n",
       "        if (!display || display === 'none') {{\n",
       "            console.log([gd, 'removed!']);\n",
       "            Plotly.purge(gd);\n",
       "            observer.disconnect();\n",
       "        }}\n",
       "}});\n",
       "\n",
       "// Listen for the removal of the full notebook cells\n",
       "var notebookContainer = gd.closest('#notebook-container');\n",
       "if (notebookContainer) {{\n",
       "    x.observe(notebookContainer, {childList: true});\n",
       "}}\n",
       "\n",
       "// Listen for the clearing of the current output cell\n",
       "var outputEl = gd.closest('.output');\n",
       "if (outputEl) {{\n",
       "    x.observe(outputEl, {childList: true});\n",
       "}}\n",
       "\n",
       "                        })                };                });            </script>        </div>"
      ]
     },
     "metadata": {},
     "output_type": "display_data"
    }
   ],
   "source": [
    "#Creating the swarm plot\n",
    "fig = px.scatter(cereal_data, x='protein', y='carbo', color='name', hover_name='name',     \n",
    "                labels={'protein':'Protein', 'carbo':'Carbohydrates', 'name': 'Cereal Name'},\n",
    "                title='Cereal Nutrition: Protein versus Carbohydrates',\n",
    "                template='plotly_white')\n",
    "\n",
    "#Displaying the swarm plot\n",
    "fig.update_traces(marker=dict(size=8, opacity=0.6))\n",
    "fig.show()"
   ]
  }
 ],
 "metadata": {
  "kaggle": {
   "accelerator": "none",
   "dataSources": [
    {
     "datasetId": 2021,
     "sourceId": 5514,
     "sourceType": "datasetVersion"
    }
   ],
   "dockerImageVersionId": 30698,
   "isGpuEnabled": false,
   "isInternetEnabled": false,
   "language": "python",
   "sourceType": "notebook"
  },
  "kernelspec": {
   "display_name": "Python 3",
   "language": "python",
   "name": "python3"
  },
  "language_info": {
   "codemirror_mode": {
    "name": "ipython",
    "version": 3
   },
   "file_extension": ".py",
   "mimetype": "text/x-python",
   "name": "python",
   "nbconvert_exporter": "python",
   "pygments_lexer": "ipython3",
   "version": "3.10.13"
  },
  "papermill": {
   "default_parameters": {},
   "duration": 8.886215,
   "end_time": "2024-05-10T05:03:13.358797",
   "environment_variables": {},
   "exception": null,
   "input_path": "__notebook__.ipynb",
   "output_path": "__notebook__.ipynb",
   "parameters": {},
   "start_time": "2024-05-10T05:03:04.472582",
   "version": "2.5.0"
  }
 },
 "nbformat": 4,
 "nbformat_minor": 5
}
